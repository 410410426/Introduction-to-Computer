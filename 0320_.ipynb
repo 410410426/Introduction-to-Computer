{
  "nbformat": 4,
  "nbformat_minor": 0,
  "metadata": {
    "colab": {
      "provenance": [],
      "authorship_tag": "ABX9TyN1jZ54iyKcv12o0o87Jtga",
      "include_colab_link": true
    },
    "kernelspec": {
      "name": "python3",
      "display_name": "Python 3"
    },
    "language_info": {
      "name": "python"
    }
  },
  "cells": [
    {
      "cell_type": "markdown",
      "metadata": {
        "id": "view-in-github",
        "colab_type": "text"
      },
      "source": [
        "<a href=\"https://colab.research.google.com/github/410410426/Introduction-to-Computer/blob/main/0320_.ipynb\" target=\"_parent\"><img src=\"https://colab.research.google.com/assets/colab-badge.svg\" alt=\"Open In Colab\"/></a>"
      ]
    },
    {
      "cell_type": "markdown",
      "source": [
        "成績計算"
      ],
      "metadata": {
        "id": "8Tww3tALsz5J"
      }
    },
    {
      "cell_type": "code",
      "source": [
        "x=int(input(\"請輸入國文成績\"))\n",
        "y=int(input(\"請輸入英文成績\"))\n",
        "z=int(input(\"請輸入數學成績\"))\n",
        "print(\"你的成績總分為:\")\n",
        "print(x+y+z)"
      ],
      "metadata": {
        "colab": {
          "base_uri": "https://localhost:8080/",
          "height": 0
        },
        "id": "d6ii4dl9s2xj",
        "outputId": "75afa164-9008-4329-a6a8-8d89f371e692"
      },
      "execution_count": 13,
      "outputs": [
        {
          "output_type": "stream",
          "name": "stdout",
          "text": [
            "請輸入國文成績50\n",
            "請輸入英文成績60\n",
            "請輸入數學成績70\n",
            "你的成績總分為:\n",
            "180\n"
          ]
        }
      ]
    },
    {
      "cell_type": "markdown",
      "source": [
        "計算梯形面積"
      ],
      "metadata": {
        "id": "qwgD0ybQsZYs"
      }
    },
    {
      "cell_type": "code",
      "source": [
        "\n",
        "x=int(input(\"請輸入梯形上底長度:\"))\n",
        "y=int(input(\"請輸入梯形下底長度:\"))\n",
        "h=int(input(\"請輸入梯形的高度:\"))\n",
        "p=(x+y)*h/2\n",
        "print(\"上底長度為: \",x,\"下底長度為: \",y,\"高度為: \",h,\"梯形面積為: \",p)"
      ],
      "metadata": {
        "colab": {
          "base_uri": "https://localhost:8080/",
          "height": 0
        },
        "id": "RFIOsLMSsf5m",
        "outputId": "706bf141-299c-4646-a649-1f8d1fc14bda"
      },
      "execution_count": 16,
      "outputs": [
        {
          "output_type": "stream",
          "name": "stdout",
          "text": [
            "請輸入梯形上底長度:3\n",
            "請輸入梯形下底長度:4\n",
            "請輸入梯形的高度:3\n",
            "上底長度為:  3 下底長度為:  4 高度為:  3 梯形面積為:  10.5\n"
          ]
        }
      ]
    },
    {
      "cell_type": "markdown",
      "source": [
        "BMI計算4"
      ],
      "metadata": {
        "id": "TvzthP9XsuG5"
      }
    },
    {
      "cell_type": "code",
      "source": [
        "x=int(input(\"請輸入您的身高(cm): \"))\n",
        "y=int(input(\"請輸入您的體重(kg): \"))\n",
        "bmi=y/((x/100)**2)\n",
        "print(\"身高 \",x,\"公分,體重 \",y,\"公斤,BMI值為 \",\"%.2f\"%bmi)"
      ],
      "metadata": {
        "colab": {
          "base_uri": "https://localhost:8080/"
        },
        "id": "JOkcdPT3s3_u",
        "outputId": "7bf7ee01-c821-43bf-fe3f-079f37ea74fb"
      },
      "execution_count": 17,
      "outputs": [
        {
          "output_type": "stream",
          "name": "stdout",
          "text": [
            "請輸入您的身高(cm): 180\n",
            "請輸入您的體重(kg): 80\n",
            "身高  180 公分,體重  80 公斤,BMI值為  24.69\n"
          ]
        }
      ]
    },
    {
      "cell_type": "code",
      "source": [],
      "metadata": {
        "id": "nQfLBo6muDQ7"
      },
      "execution_count": null,
      "outputs": []
    }
  ]
}